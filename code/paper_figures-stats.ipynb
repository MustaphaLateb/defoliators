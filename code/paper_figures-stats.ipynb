{
 "cells": [
  {
   "cell_type": "code",
   "execution_count": 36,
   "metadata": {
    "collapsed": false,
    "deletable": true,
    "editable": true
   },
   "outputs": [],
   "source": [
    "%matplotlib inline\n",
    "\n",
    "import numpy as np\n",
    "import rasterio\n",
    "from osgeo import gdal\n",
    "import matplotlib.pyplot as plt\n",
    "import matplotlib.ticker as tkr\n",
    "import seaborn as sns\n",
    "from __future__ import division\n",
    "import pandas as pd\n",
    "import seaborn"
   ]
  },
  {
   "cell_type": "code",
   "execution_count": 2,
   "metadata": {
    "collapsed": true,
    "deletable": true,
    "editable": true
   },
   "outputs": [],
   "source": [
    "# specify residuals map to read in:\n",
    "year = '2016'\n",
    "#year = '2015'\n",
    "\n",
    "stable='0515'\n",
    "#stable='0414'"
   ]
  },
  {
   "cell_type": "code",
   "execution_count": 3,
   "metadata": {
    "collapsed": false,
    "deletable": true,
    "editable": true
   },
   "outputs": [
    {
     "name": "stdout",
     "output_type": "stream",
     "text": [
      "(9729, 12851)\n"
     ]
    }
   ],
   "source": [
    "# read in residuals\n",
    "# **uses masked version -- non-forest=-9999**\n",
    "residuals_fn = '../paper_data/final_products/{year}_{stable}_meanresiduals_forestmask.tif'.format(year=year, stable=stable)\n",
    "with rasterio.open(residuals_fn) as image:\n",
    "    residuals = image.read(1)\n",
    "print(residuals.shape)"
   ]
  },
  {
   "cell_type": "code",
   "execution_count": 4,
   "metadata": {
    "collapsed": false,
    "deletable": true,
    "editable": true
   },
   "outputs": [
    {
     "name": "stdout",
     "output_type": "stream",
     "text": [
      "(9729, 12851)\n",
      "[-9999     0     1]\n"
     ]
    }
   ],
   "source": [
    "NLCD_fn = '/projectnb/landsat/projects/Massachusetts/Moths/paper_data/final_products/NLCD_forest_mask.tif'\n",
    "with rasterio.open(NLCD_fn) as image:\n",
    "    NLCD = image.read(1)\n",
    "print(NLCD.shape)\n",
    "print(np.unique(NLCD))"
   ]
  },
  {
   "cell_type": "code",
   "execution_count": 5,
   "metadata": {
    "collapsed": false,
    "deletable": true,
    "editable": true
   },
   "outputs": [
    {
     "name": "stdout",
     "output_type": "stream",
     "text": [
      "(9729, 12851)\n"
     ]
    }
   ],
   "source": [
    "# read in 2016 aerial assessment - rasterized\n",
    "aerial_fn = '/projectnb/landsat/projects/Massachusetts/Moths/GIS_data/FS_2016aerial/DFO_GypsyMothData_2017_albers_studyarea_rast.tif'\n",
    "with rasterio.open(aerial_fn) as image:\n",
    "    aerial = image.read(1)\n",
    "print(aerial.shape)"
   ]
  },
  {
   "cell_type": "code",
   "execution_count": 6,
   "metadata": {
    "collapsed": false,
    "deletable": true,
    "editable": true
   },
   "outputs": [
    {
     "name": "stdout",
     "output_type": "stream",
     "text": [
      "(9729, 12851)\n",
      "(9729, 12851)\n",
      "(9729, 12851)\n"
     ]
    }
   ],
   "source": [
    "# Read in FHTE datasets\n",
    "FHTE_fn = '/projectnb/landsat/projects/Massachusetts/Moths/GIS_data/FHTE_ref/FHTE_ZScore_raster.tif'\n",
    "with rasterio.open(FHTE_fn) as image:\n",
    "    FHTE = image.read(1)\n",
    "print(FHTE.shape)\n",
    "\n",
    "FHTE_s1_fn = '/projectnb/landsat/projects/Massachusetts/Moths/GIS_data/FHTE_ref/FHTE_ZScore_sieve1_raster.tif'\n",
    "with rasterio.open(FHTE_s1_fn) as image:\n",
    "    FHTE_s1 = image.read(1)\n",
    "print(FHTE_s1.shape)\n",
    "\n",
    "FHTE_s2_fn = '/projectnb/landsat/projects/Massachusetts/Moths/GIS_data/FHTE_ref/FHTE_ZScore_sieve2_raster.tif'\n",
    "with rasterio.open(FHTE_s2_fn) as image:\n",
    "    FHTE_s2 = image.read(1)\n",
    "print(FHTE_s2.shape)"
   ]
  },
  {
   "cell_type": "code",
   "execution_count": 7,
   "metadata": {
    "collapsed": false,
    "deletable": true,
    "editable": true
   },
   "outputs": [
    {
     "name": "stdout",
     "output_type": "stream",
     "text": [
      "(9729, 12851)\n"
     ]
    }
   ],
   "source": [
    "# read in 2016 aerial assessment - rasterized\n",
    "states_fn = '/projectnb/landsat/projects/Massachusetts/Moths/GIS_data/states/study_area_rast.tif'\n",
    "with rasterio.open(states_fn) as image:\n",
    "    states = image.read(1)\n",
    "print(states.shape)"
   ]
  },
  {
   "cell_type": "code",
   "execution_count": 8,
   "metadata": {
    "collapsed": false,
    "deletable": true,
    "editable": true
   },
   "outputs": [],
   "source": [
    "residuals_12 = residuals[np.where(aerial >= 1)]\n",
    "residuals_12 = residuals_12.reshape(residuals_12.size)\n",
    "\n",
    "residuals_3 = residuals[np.where(aerial >= 3)]\n",
    "residuals_3 = residuals_3.reshape(residuals_3.size)\n",
    "\n",
    "residuals_4 = residuals[np.where(aerial >= 4)]\n",
    "residuals_4 = residuals_4.reshape(residuals_4.size)\n",
    "\n",
    "residuals_5 = residuals[np.where(aerial == 5)]\n",
    "residuals_5 = residuals_5.reshape(residuals_5.size)\n",
    "\n",
    "residuals_na = residuals[np.where(aerial == 0)]\n",
    "residuals_na = residuals_na.reshape(residuals_na.size)"
   ]
  },
  {
   "cell_type": "code",
   "execution_count": 9,
   "metadata": {
    "collapsed": false,
    "deletable": true,
    "editable": true
   },
   "outputs": [],
   "source": [
    "res_FHTE = residuals[np.where(FHTE==4) or np.where(FHTE==3)]\n",
    "res_FHTE = res_FHTE.reshape(res_FHTE.size)\n",
    "\n",
    "res_FHTE_s1 = residuals[np.where(FHTE_s1==4) or np.where(FHTE_s1==3)]\n",
    "res_FHTE_s1 = res_FHTE_s1.reshape(res_FHTE_s1.size)\n",
    "\n",
    "res_FHTE_s2 = residuals[np.where(FHTE_s2==4) or np.where(FHTE_s2==3)]\n",
    "res_FHTE_s2 = res_FHTE_s2.reshape(res_FHTE_s2.size)\n",
    "\n",
    "res_FHTE_na = residuals[np.where(FHTE_s2==1) or np.where(FHTE_s2==2)]\n",
    "res_FHTE_na = res_FHTE_na.reshape(res_FHTE_na.size)"
   ]
  },
  {
   "cell_type": "code",
   "execution_count": null,
   "metadata": {
    "collapsed": false,
    "deletable": true,
    "editable": true
   },
   "outputs": [],
   "source": []
  },
  {
   "cell_type": "code",
   "execution_count": 49,
   "metadata": {
    "collapsed": false,
    "deletable": true,
    "editable": true
   },
   "outputs": [
    {
     "data": {
      "image/png": "[encoded data removed]",
      "text/plain": [
       "<matplotlib.figure.Figure at 0x7ff8b0307b90>"
      ]
     },
     "metadata": {},
     "output_type": "display_data"
    }
   ],
   "source": [
    "bins = np.arange(-10, 10, 0.5)\n",
    "\n",
    "fig = plt.figure(1, figsize=(14,5))\n",
    "plt.style.use('ggplot') \n",
    "\n",
    "ax = fig.add_subplot(121)\n",
    "\n",
    "\n",
    "seaborn.distplot(residuals_12, hist=True, bins=bins, kde=False, norm_hist=True, \\\n",
    "                 label='Very Light / Light (1-10%)',\n",
    "                 hist_kws={\"histtype\": \"stepfilled\", \"linewidth\": 1.5, \"alpha\": 1, \"color\": \"#feed26\"})\n",
    "\n",
    "seaborn.distplot(residuals_3, hist=True, bins=bins, kde=False, norm_hist=True, \\\n",
    "                 label='Moderate (11-29%)', \\\n",
    "                 hist_kws={\"histtype\": \"stepfilled\", \"linewidth\": 1.5, \"alpha\": 1, \"color\": \"#fe9929\"})\n",
    "\n",
    "seaborn.distplot(residuals_4, hist=True, bins=bins, kde=False, norm_hist=True, \\\n",
    "                 label='Severe (30-50%)', \\\n",
    "                 hist_kws={\"histtype\": \"stepfilled\", \"linewidth\": 1.5, \"alpha\": 1, \"color\": \"#e31a1c\"})\n",
    "\n",
    "seaborn.distplot(residuals_5, hist=True, bins=bins, kde=False, norm_hist=True, \\\n",
    "                 label='Very Severe (>50%)', \\\n",
    "                 hist_kws={\"histtype\": \"stepfilled\", \"linewidth\": 1.5, \"alpha\": 1, \"color\": \"#b50006\"})\n",
    "\n",
    "seaborn.distplot(residuals_na, hist=True, bins=bins, kde=False, norm_hist=True, \\\n",
    "                 label='Outside polygons', \\\n",
    "                 hist_kws={\"histtype\": \"step\", \"linewidth\": 2, \"alpha\": 1, \"color\": \"#134bc9\"})\n",
    "\n",
    "plt.axvline(0, lw=1, color='k', ls='-', alpha=0.5) \n",
    "plt.axvline(-1, lw=1, color='k', ls='--', alpha=0.5)\n",
    "plt.axvline(1, lw=1, color='k', ls='--', alpha=0.5)\n",
    "plt.ylabel('Proportion of mapped area', fontsize=14)\n",
    "plt.xlabel('Landsat time series condition score', fontsize=14)\n",
    "plt.ylim((0, 0.8))\n",
    "plt.xlim((-7, 4))\n",
    "plt.locator_params(nbins=11)\n",
    "plt.title('Comparison to Aerial sketch data')\n",
    "plt.legend()\n",
    "\n",
    "ax = fig.add_subplot(122)\n",
    "seaborn.distplot(res_FHTE, hist=True, bins=bins, kde=False, norm_hist=True, \\\n",
    "                 label='Raw', \\\n",
    "                 hist_kws={\"histtype\": \"step\", \"linewidth\": 1.5, \"alpha\": 1, \"color\": \"#fe9929\"})\n",
    "\n",
    "seaborn.distplot(res_FHTE_s1, hist=True, bins=bins, kde=False, norm_hist=True, \\\n",
    "                 label='Sieve 1', \\\n",
    "                 hist_kws={\"histtype\": \"step\", \"linewidth\": 1.5, \"alpha\": 1, \"color\": \"#e31a1c\"})\n",
    "\n",
    "seaborn.distplot(res_FHTE_s2, hist=True, bins=bins, kde=False, norm_hist=True, \\\n",
    "                 label='Sieve 2', \\\n",
    "                 hist_kws={\"histtype\": \"stepfilled\", \"linewidth\": 1.5, \"alpha\": 1, \"color\": \"#b50006\"})\n",
    "\n",
    "seaborn.distplot(res_FHTE_na, hist=True, bins=bins, kde=False, norm_hist=True, \\\n",
    "                 label='Undisturbed', \\\n",
    "                 hist_kws={\"histtype\": \"step\", \"linewidth\": 2, \"alpha\": 1, \"color\": \"#134bc9\"})\n",
    "plt.axvline(0, lw=1, color='k', ls='-', alpha=0.5) \n",
    "plt.axvline(-1, lw=1, color='k', ls='--', alpha=0.5)\n",
    "plt.axvline(1, lw=1, color='k', ls='--', alpha=0.5)\n",
    "plt.ylabel('Proportion of mapped area', fontsize=14)\n",
    "plt.xlabel('Landsat time series condition score', fontsize=14)\n",
    "plt.ylim((0, 0.8))\n",
    "plt.xlim((-7, 4))\n",
    "plt.xticks()\n",
    "plt.title('Comparison to FHTET product')\n",
    "plt.legend()\n",
    "plt.locator_params(nbins=11)\n",
    "plt.savefig('../paper_data/figures/Figure_comparisonhist.png')\n",
    "plt.show()"
   ]
  },
  {
   "cell_type": "code",
   "execution_count": 12,
   "metadata": {
    "collapsed": false,
    "deletable": true,
    "editable": true
   },
   "outputs": [
    {
     "name": "stdout",
     "output_type": "stream",
     "text": [
      "Total forested area: 1252.6857 km2\n",
      "Area from aerial: 448.4718 km2 - >50% (35.8008237821%)\n",
      "Area from aerial: 519.9399 km2 - >30% (41.5060138389%)\n",
      "Area from aerial: 524.5389 km2 - >11% (41.8731450355%)\n",
      "Area from FHTE: 640.7838 km2 (51.1527991419%)\n",
      "Area from LTS @ -1: 617.8779 km2 (49.3242558768%)\n",
      "Area from LTS @ -2: 386.5941 km2 (30.8612208154%)\n",
      "Area from LTS @ -3: 220.4811 km2 (17.6006719004%)\n"
     ]
    }
   ],
   "source": [
    "# Area stats for Rhode Island\n",
    "#RI = states[(states == 44) & (residuals != -9999)].shape[0]\n",
    "RI = states[(states == 44) & (NLCD == 1)].shape[0]\n",
    "RI_km2 = (RI*30*30)/(1000*1000)\n",
    "print(\"Total forested area: {RI} km2\".format(RI=RI_km2))\n",
    "\n",
    "RI_5 = aerial[((aerial == 5) & (states == 44)& (residuals != -9999))].shape[0]\n",
    "RI_5_km2 = (RI_5*30*30)/(1000*1000)\n",
    "\n",
    "RI_4 = aerial[((aerial == 4) & (states == 44) & (residuals != -9999))].shape[0]\n",
    "RI_4_km2 = (RI_4*30*30)/(1000*1000)\n",
    "\n",
    "RI_3 = aerial[((aerial == 3) & (states == 44) & (residuals != -9999))].shape[0]\n",
    "RI_3_km2 = (RI_3*30*30)/(1000*1000)\n",
    "\n",
    "print(\"Area from aerial: {aerial} km2 - >50% ({perc}%)\".format(aerial=RI_5_km2, perc=(RI_5_km2/RI_km2)*100))\n",
    "\n",
    "aerial_45_km2 = RI_4_km2 + RI_5_km2\n",
    "print(\"Area from aerial: {aerial} km2 - >30% ({perc}%)\".format(aerial=aerial_45_km2, perc=(aerial_45_km2/RI_km2)*100))\n",
    "\n",
    "aerial_345_km2 = RI_3_km2 + RI_4_km2 + RI_5_km2\n",
    "print(\"Area from aerial: {aerial} km2 - >11% ({perc}%)\".format(aerial=aerial_345_km2, perc=(aerial_345_km2/RI_km2)*100))\n",
    "\n",
    "FHTE_4 = FHTE_s2[(states == 44) & (FHTE_s2 ==4) & (residuals != -9999)].shape[0]\n",
    "FHTE_3 = FHTE_s2[(states == 44) & (FHTE_s2 ==3) & (residuals != -9999)].shape[0]\n",
    "FHTE_km2 = ((FHTE_4 + FHTE_3)*30*30)/(1000*1000)\n",
    "print(\"Area from FHTE: {FHTE} km2 ({perc}%)\".format(FHTE=FHTE_km2, perc=(FHTE_km2/RI_km2)*100))\n",
    "\n",
    "level = -1\n",
    "LTS = residuals[(states == 44) & (residuals <= level) & (residuals != -9999)].shape[0]\n",
    "LTS_km2 = (LTS*30*30)/(1000*1000)\n",
    "print(\"Area from LTS @ {level}: {LTS} km2 ({perc}%)\".format(LTS=LTS_km2,level=level,  perc=(LTS_km2/RI_km2)*100))\n",
    "level = -2\n",
    "LTS = residuals[(states == 44) & (residuals <= level) & (residuals != -9999)].shape[0]\n",
    "LTS_km2 = (LTS*30*30)/(1000*1000)\n",
    "print(\"Area from LTS @ {level}: {LTS} km2 ({perc}%)\".format(LTS=LTS_km2, level=level, perc=(LTS_km2/RI_km2)*100))\n",
    "level = -3\n",
    "LTS = residuals[(states == 44) & (residuals <= level) & (residuals != -9999)].shape[0]\n",
    "LTS_km2 = (LTS*30*30)/(1000*1000)\n",
    "print(\"Area from LTS @ {level}: {LTS} km2 ({perc}%)\".format(LTS=LTS_km2, level=level, perc=(LTS_km2/RI_km2)*100))\n",
    "\n"
   ]
  },
  {
   "cell_type": "code",
   "execution_count": null,
   "metadata": {
    "collapsed": true,
    "deletable": true,
    "editable": true
   },
   "outputs": [],
   "source": []
  },
  {
   "cell_type": "code",
   "execution_count": null,
   "metadata": {
    "collapsed": true,
    "deletable": true,
    "editable": true
   },
   "outputs": [],
   "source": []
  },
  {
   "cell_type": "code",
   "execution_count": null,
   "metadata": {
    "collapsed": true,
    "deletable": true,
    "editable": true
   },
   "outputs": [],
   "source": []
  },
  {
   "cell_type": "code",
   "execution_count": null,
   "metadata": {
    "collapsed": false,
    "deletable": true,
    "editable": true
   },
   "outputs": [],
   "source": [
    "\n"
   ]
  },
  {
   "cell_type": "code",
   "execution_count": null,
   "metadata": {
    "collapsed": true,
    "deletable": true,
    "editable": true
   },
   "outputs": [],
   "source": []
  },
  {
   "cell_type": "code",
   "execution_count": null,
   "metadata": {
    "collapsed": true,
    "deletable": true,
    "editable": true
   },
   "outputs": [],
   "source": []
  }
 ],
 "metadata": {
  "kernelspec": {
   "display_name": "Python 2",
   "language": "python",
   "name": "python2"
  },
  "language_info": {
   "codemirror_mode": {
    "name": "ipython",
    "version": 2
   },
   "file_extension": ".py",
   "mimetype": "text/x-python",
   "name": "python",
   "nbconvert_exporter": "python",
   "pygments_lexer": "ipython2",
   "version": "2.7.12"
  }
 },
 "nbformat": 4,
 "nbformat_minor": 2
}
