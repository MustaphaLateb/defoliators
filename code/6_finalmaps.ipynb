{
 "cells": [
  {
   "cell_type": "code",
   "execution_count": 1,
   "metadata": {
    "collapsed": false,
    "deletable": true,
    "editable": true
   },
   "outputs": [],
   "source": [
    "%matplotlib inline\n",
    "\n",
    "import numpy as np\n",
    "import rasterio\n",
    "from osgeo import gdal\n",
    "import matplotlib.pyplot as plt\n",
    "plt.style.use('ggplot') \n",
    "from __future__ import division\n",
    "\n",
    "import pandas as pd"
   ]
  },
  {
   "cell_type": "code",
   "execution_count": 2,
   "metadata": {
    "collapsed": false,
    "deletable": true,
    "editable": true
   },
   "outputs": [
    {
     "name": "stdout",
     "output_type": "stream",
     "text": [
      "(9, 9729, 12851)\n"
     ]
    }
   ],
   "source": [
    "# read in VRT stack of all standardized results\n",
    "stable = '0515'\n",
    "VRT = '../2017_analysis/final_products/2017_stack_diffG_standardized.vrt'\n",
    "\n",
    "with rasterio.open(VRT) as image:\n",
    "    obs_ds = image.read()\n",
    "print(obs_ds.shape)"
   ]
  },
  {
   "cell_type": "code",
   "execution_count": 3,
   "metadata": {
    "collapsed": false,
    "deletable": true,
    "editable": true
   },
   "outputs": [
    {
     "name": "stdout",
     "output_type": "stream",
     "text": [
      "(9729, 12851)\n"
     ]
    }
   ],
   "source": [
    "# calculate number of good values per pixel\n",
    "no_data = -9999\n",
    "nobs = np.sum(obs_ds != no_data, axis=0)\n",
    "print(nobs.shape)"
   ]
  },
  {
   "cell_type": "code",
   "execution_count": 5,
   "metadata": {
    "collapsed": false,
    "deletable": true,
    "editable": true
   },
   "outputs": [],
   "source": [
    "# write number of observations to raster\n",
    "in_ds = gdal.Open(VRT, gdal.GA_ReadOnly)\n",
    "output_fn = '../2017_analysis/final_products/2017_{stable}_nobs.tif'.format(stable=stable)\n",
    "\n",
    "out_driver = gdal.GetDriverByName(\"GTiff\")\n",
    "out_ds = out_driver.Create(output_fn, \n",
    "                           nobs.shape[1],  # x size\n",
    "                           nobs.shape[0],  # y size\n",
    "                           1,  # number of bands\n",
    "                           gdal.GDT_Int32)\n",
    "out_ds.SetProjection(in_ds.GetProjection())\n",
    "out_ds.SetGeoTransform(in_ds.GetGeoTransform())\n",
    "out_ds.GetRasterBand(1).WriteArray(nobs)\n",
    "#out_ds.GetRasterBand(1).SetNoDataValue(-9999)\n",
    "#out_ds.GetRasterBand(1).SetColorTable(ct)\n",
    "out_ds.GetRasterBand(1).SetDescription('number of observation per pixel')\n",
    "out_ds = None"
   ]
  },
  {
   "cell_type": "code",
   "execution_count": 7,
   "metadata": {
    "collapsed": false,
    "deletable": true,
    "editable": true
   },
   "outputs": [
    {
     "name": "stdout",
     "output_type": "stream",
     "text": [
      "(9729, 12851)\n"
     ]
    }
   ],
   "source": [
    "# Create NLCD forest mask\n",
    "NLCD = '../2016_analysis/final_products/NLCD_clip.tif'\n",
    "\n",
    "with rasterio.open(NLCD) as image:\n",
    "    NLCD = image.read(1)\n",
    "print(NLCD.shape)\n",
    "\n",
    "NLCD_forest = np.zeros(NLCD.shape, dtype=int)\n",
    "NLCD_forest[NLCD == 41] = 1\n",
    "NLCD_forest[NLCD == 42] = 1\n",
    "NLCD_forest[NLCD == 43] = 1\n",
    "NLCD_forest[nobs == 0]  = -9999\n",
    "NLCD_forest.shape\n",
    "\n",
    "# write mean to raster\n",
    "output_fn = '../2017_analysis/final_products/NLCD_forest_mask.tif'\n",
    "\n",
    "out_driver = gdal.GetDriverByName(\"GTiff\")\n",
    "out_ds = out_driver.Create(output_fn, \n",
    "                           nobs.shape[1],  # x size\n",
    "                           nobs.shape[0],  # y size\n",
    "                           1,  # number of bands\n",
    "                           gdal.GDT_Int32)\n",
    "out_ds.SetProjection(in_ds.GetProjection())\n",
    "out_ds.SetGeoTransform(in_ds.GetGeoTransform())\n",
    "out_ds.GetRasterBand(1).WriteArray(NLCD_forest)\n",
    "out_ds.GetRasterBand(1).SetNoDataValue(-9999) \n",
    "#out_ds.GetRasterBand(1).SetColorTable(ct)\n",
    "out_ds.GetRasterBand(1).SetDescription('Forest/Non-forest mask from 2011 NLCD')\n",
    "out_ds = None"
   ]
  },
  {
   "cell_type": "code",
   "execution_count": 8,
   "metadata": {
    "collapsed": false,
    "deletable": true,
    "editable": true
   },
   "outputs": [],
   "source": [
    "# change no data value to nan\n",
    "obs_ds[obs_ds == no_data] = np.nan"
   ]
  },
  {
   "cell_type": "code",
   "execution_count": 9,
   "metadata": {
    "collapsed": false,
    "deletable": true,
    "editable": true
   },
   "outputs": [],
   "source": [
    "# sum across bands, ignoring nan\n",
    "sum_all = np.nansum(obs_ds, axis=0)"
   ]
  },
  {
   "cell_type": "code",
   "execution_count": 10,
   "metadata": {
    "collapsed": false,
    "deletable": true,
    "editable": true
   },
   "outputs": [
    {
     "name": "stderr",
     "output_type": "stream",
     "text": [
      "/projectnb/landsat/users/valpasq/conda/envs/moths/lib/python2.7/site-packages/ipykernel/__main__.py:2: RuntimeWarning: invalid value encountered in true_divide\n",
      "  from ipykernel import kernelapp as app\n"
     ]
    }
   ],
   "source": [
    "# calculate mean\n",
    "mean_all = sum_all / nobs"
   ]
  },
  {
   "cell_type": "code",
   "execution_count": 12,
   "metadata": {
    "collapsed": false,
    "deletable": true,
    "editable": true
   },
   "outputs": [
    {
     "data": {
      "image/png": "[encoded data removed]",
      "text/plain": [
       "<matplotlib.figure.Figure at 0x7fcde94b64d0>"
      ]
     },
     "metadata": {},
     "output_type": "display_data"
    }
   ],
   "source": [
    "# Create histogram of mean residuals\n",
    "mean_all_hist = mean_all.reshape(mean_all.size)\n",
    "plt.hist(mean_all_hist[~np.isnan(mean_all_hist)], 1000)\n",
    "plt.title('2016 Distribution of Mean Residuals')\n",
    "plt.xlim(-5,5)\n",
    "plt.xlabel('mean standardized residual')\n",
    "plt.ylabel('frequency')\n",
    "plt.savefig('../2017_analysis/final_products/2016_{stable}_histogram.eps'.format(stable=stable))\n",
    "plt.show()"
   ]
  },
  {
   "cell_type": "code",
   "execution_count": 13,
   "metadata": {
    "collapsed": true,
    "deletable": true,
    "editable": true
   },
   "outputs": [],
   "source": [
    "# mask pixels where nobs=0\n",
    "mean_all[nobs == 0] = -9999"
   ]
  },
  {
   "cell_type": "code",
   "execution_count": 14,
   "metadata": {
    "collapsed": false,
    "deletable": true,
    "editable": true
   },
   "outputs": [],
   "source": [
    "# write mean to raster\n",
    "output_fn = '../2017_analysis/final_products/2017_{stable}_meanresiduals.tif'.format(stable=stable)\n",
    "\n",
    "out_driver = gdal.GetDriverByName(\"GTiff\")\n",
    "out_ds = out_driver.Create(output_fn, \n",
    "                           nobs.shape[1],  # x size\n",
    "                           nobs.shape[0],  # y size\n",
    "                           1,  # number of bands\n",
    "                           gdal.GDT_Float64)\n",
    "out_ds.SetProjection(in_ds.GetProjection())\n",
    "out_ds.SetGeoTransform(in_ds.GetGeoTransform())\n",
    "out_ds.GetRasterBand(1).WriteArray(mean_all)\n",
    "out_ds.GetRasterBand(1).SetNoDataValue(-9999)\n",
    "#out_ds.GetRasterBand(1).SetColorTable(ct)\n",
    "out_ds.GetRasterBand(1).SetDescription('mean standardized residual')\n",
    "out_ds = None"
   ]
  },
  {
   "cell_type": "code",
   "execution_count": 15,
   "metadata": {
    "collapsed": false,
    "deletable": true,
    "editable": true
   },
   "outputs": [
    {
     "name": "stdout",
     "output_type": "stream",
     "text": [
      "(9729, 12851)\n"
     ]
    }
   ],
   "source": [
    "# read in NLCD for masking\n",
    "with rasterio.open('../2017_analysis/final_products/NLCD_forest_mask.tif') as image:\n",
    "    NLCD = image.read(1)\n",
    "print(NLCD.shape)"
   ]
  },
  {
   "cell_type": "code",
   "execution_count": 16,
   "metadata": {
    "collapsed": true,
    "deletable": true,
    "editable": true
   },
   "outputs": [],
   "source": [
    "# mask non-forest\n",
    "mean_all[NLCD == 0] = -9999"
   ]
  },
  {
   "cell_type": "code",
   "execution_count": 17,
   "metadata": {
    "collapsed": false,
    "deletable": true,
    "editable": true
   },
   "outputs": [],
   "source": [
    "in_ds = gdal.Open(VRT, gdal.GA_ReadOnly)\n",
    "# write masked mean to raster\n",
    "output_fn = '../2017_analysis/final_products/2017_{stable}_meanresiduals_forestmask.tif'.format(stable=stable)\n",
    "\n",
    "out_driver = gdal.GetDriverByName(\"GTiff\")\n",
    "out_ds = out_driver.Create(output_fn, \n",
    "                           nobs.shape[1],  # x size\n",
    "                           nobs.shape[0],  # y size\n",
    "                           1,  # number of bands\n",
    "                           gdal.GDT_Float64)\n",
    "out_ds.SetProjection(in_ds.GetProjection())\n",
    "out_ds.SetGeoTransform(in_ds.GetGeoTransform())\n",
    "out_ds.GetRasterBand(1).WriteArray(mean_all)\n",
    "out_ds.GetRasterBand(1).SetNoDataValue(-9999)\n",
    "#out_ds.GetRasterBand(1).SetColorTable(ct)\n",
    "out_ds.GetRasterBand(1).SetDescription('mean standardized residual')\n",
    "out_ds = None"
   ]
  },
  {
   "cell_type": "code",
   "execution_count": null,
   "metadata": {
    "collapsed": true,
    "deletable": true,
    "editable": true
   },
   "outputs": [],
   "source": []
  },
  {
   "cell_type": "code",
   "execution_count": null,
   "metadata": {
    "collapsed": false,
    "deletable": true,
    "editable": true
   },
   "outputs": [],
   "source": []
  }
 ],
 "metadata": {
  "anaconda-cloud": {},
  "kernelspec": {
   "display_name": "Python 2",
   "language": "python",
   "name": "python2"
  },
  "language_info": {
   "codemirror_mode": {
    "name": "ipython",
    "version": 2
   },
   "file_extension": ".py",
   "mimetype": "text/x-python",
   "name": "python",
   "nbconvert_exporter": "python",
   "pygments_lexer": "ipython2",
   "version": "2.7.12"
  }
 },
 "nbformat": 4,
 "nbformat_minor": 1
}
